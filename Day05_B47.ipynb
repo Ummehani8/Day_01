{
 "cells": [
  {
   "cell_type": "code",
   "execution_count": null,
   "id": "b5d47673",
   "metadata": {},
   "outputs": [],
   "source": [
    "Organising the list datatype:"
   ]
  },
  {
   "cell_type": "code",
   "execution_count": 1,
   "id": "97fc80c3",
   "metadata": {},
   "outputs": [],
   "source": [
    "ice_cream=['vanilla','raspberry','black current','mango','coffee','chocolate','lemonade','tiramisu']"
   ]
  },
  {
   "cell_type": "code",
   "execution_count": 2,
   "id": "b1e0658d",
   "metadata": {},
   "outputs": [
    {
     "name": "stdout",
     "output_type": "stream",
     "text": [
      "['vanilla', 'raspberry', 'black current', 'mango', 'coffee', 'chocolate', 'lemonade', 'tiramisu']\n"
     ]
    }
   ],
   "source": [
    "print(ice_cream)"
   ]
  },
  {
   "cell_type": "code",
   "execution_count": null,
   "id": "6345e16e",
   "metadata": {},
   "outputs": [],
   "source": [
    "#req: To organise the above list in an alphabetical order."
   ]
  },
  {
   "cell_type": "code",
   "execution_count": 3,
   "id": "90a4a5dd",
   "metadata": {},
   "outputs": [
    {
     "name": "stdout",
     "output_type": "stream",
     "text": [
      "['black current', 'chocolate', 'coffee', 'lemonade', 'mango', 'raspberry', 'tiramisu', 'vanilla']\n"
     ]
    }
   ],
   "source": [
    "print(sorted(ice_cream))       #temp approach"
   ]
  },
  {
   "cell_type": "code",
   "execution_count": 4,
   "id": "aa3ff6ed",
   "metadata": {},
   "outputs": [
    {
     "name": "stdout",
     "output_type": "stream",
     "text": [
      "['vanilla', 'raspberry', 'black current', 'mango', 'coffee', 'chocolate', 'lemonade', 'tiramisu']\n"
     ]
    }
   ],
   "source": [
    "print(ice_cream)          #as it was temp approach the list will be returned to its original form."
   ]
  },
  {
   "cell_type": "code",
   "execution_count": 5,
   "id": "000fc018",
   "metadata": {},
   "outputs": [],
   "source": [
    "ice_cream.sort()      #permanent approach"
   ]
  },
  {
   "cell_type": "code",
   "execution_count": 6,
   "id": "f34ccbdc",
   "metadata": {},
   "outputs": [
    {
     "name": "stdout",
     "output_type": "stream",
     "text": [
      "['black current', 'chocolate', 'coffee', 'lemonade', 'mango', 'raspberry', 'tiramisu', 'vanilla']\n"
     ]
    }
   ],
   "source": [
    "print(ice_cream)"
   ]
  },
  {
   "cell_type": "code",
   "execution_count": 7,
   "id": "923ba072",
   "metadata": {},
   "outputs": [
    {
     "name": "stdout",
     "output_type": "stream",
     "text": [
      "['black current', 'chocolate', 'coffee', 'lemonade', 'mango', 'raspberry', 'tiramisu', 'vanilla']\n"
     ]
    }
   ],
   "source": [
    "print(ice_cream)        #as we have applied the permanent approach the same sorted list will be displayed."
   ]
  },
  {
   "cell_type": "code",
   "execution_count": null,
   "id": "8a706614",
   "metadata": {},
   "outputs": [],
   "source": [
    "#How to print the list in the reverse order? "
   ]
  },
  {
   "cell_type": "code",
   "execution_count": 8,
   "id": "d90ce68c",
   "metadata": {},
   "outputs": [],
   "source": [
    "ice_cream.reverse()"
   ]
  },
  {
   "cell_type": "code",
   "execution_count": 9,
   "id": "40fa14af",
   "metadata": {},
   "outputs": [
    {
     "name": "stdout",
     "output_type": "stream",
     "text": [
      "['vanilla', 'tiramisu', 'raspberry', 'mango', 'lemonade', 'coffee', 'chocolate', 'black current']\n"
     ]
    }
   ],
   "source": [
    "print(ice_cream)"
   ]
  },
  {
   "cell_type": "code",
   "execution_count": null,
   "id": "9dadeaab",
   "metadata": {},
   "outputs": [],
   "source": [
    "#req: How to count the number of elements in the list?"
   ]
  },
  {
   "cell_type": "code",
   "execution_count": 10,
   "id": "6f6ebd0a",
   "metadata": {},
   "outputs": [
    {
     "data": {
      "text/plain": [
       "8"
      ]
     },
     "execution_count": 10,
     "metadata": {},
     "output_type": "execute_result"
    }
   ],
   "source": [
    "len(ice_cream)"
   ]
  },
  {
   "cell_type": "code",
   "execution_count": 11,
   "id": "9fb9b17d",
   "metadata": {},
   "outputs": [],
   "source": [
    "#zen of python ------>"
   ]
  },
  {
   "cell_type": "code",
   "execution_count": 12,
   "id": "4ecf0b11",
   "metadata": {},
   "outputs": [
    {
     "name": "stdout",
     "output_type": "stream",
     "text": [
      "The Zen of Python, by Tim Peters\n",
      "\n",
      "Beautiful is better than ugly.\n",
      "Explicit is better than implicit.\n",
      "Simple is better than complex.\n",
      "Complex is better than complicated.\n",
      "Flat is better than nested.\n",
      "Sparse is better than dense.\n",
      "Readability counts.\n",
      "Special cases aren't special enough to break the rules.\n",
      "Although practicality beats purity.\n",
      "Errors should never pass silently.\n",
      "Unless explicitly silenced.\n",
      "In the face of ambiguity, refuse the temptation to guess.\n",
      "There should be one-- and preferably only one --obvious way to do it.\n",
      "Although that way may not be obvious at first unless you're Dutch.\n",
      "Now is better than never.\n",
      "Although never is often better than *right* now.\n",
      "If the implementation is hard to explain, it's a bad idea.\n",
      "If the implementation is easy to explain, it may be a good idea.\n",
      "Namespaces are one honking great idea -- let's do more of those!\n"
     ]
    }
   ],
   "source": [
    "import this "
   ]
  },
  {
   "cell_type": "code",
   "execution_count": null,
   "id": "a00e9d3a",
   "metadata": {},
   "outputs": [],
   "source": []
  }
 ],
 "metadata": {
  "kernelspec": {
   "display_name": "Python 3",
   "language": "python",
   "name": "python3"
  },
  "language_info": {
   "codemirror_mode": {
    "name": "ipython",
    "version": 3
   },
   "file_extension": ".py",
   "mimetype": "text/x-python",
   "name": "python",
   "nbconvert_exporter": "python",
   "pygments_lexer": "ipython3",
   "version": "3.8.8"
  }
 },
 "nbformat": 4,
 "nbformat_minor": 5
}
