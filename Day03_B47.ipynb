{
 "cells": [
  {
   "cell_type": "code",
   "execution_count": 1,
   "id": "82a0a41f",
   "metadata": {},
   "outputs": [
    {
     "name": "stdout",
     "output_type": "stream",
     "text": [
      "john\n"
     ]
    }
   ],
   "source": [
    "name='john'\n",
    "print(name)"
   ]
  },
  {
   "cell_type": "code",
   "execution_count": 2,
   "id": "75c074ce",
   "metadata": {},
   "outputs": [
    {
     "data": {
      "text/plain": [
       "str"
      ]
     },
     "execution_count": 2,
     "metadata": {},
     "output_type": "execute_result"
    }
   ],
   "source": [
    "type(name)"
   ]
  },
  {
   "cell_type": "code",
   "execution_count": 3,
   "id": "bca6772b",
   "metadata": {},
   "outputs": [
    {
     "name": "stdout",
     "output_type": "stream",
     "text": [
      "umme hani\n"
     ]
    }
   ],
   "source": [
    "full_name='umme hani'\n",
    "print(full_name)"
   ]
  },
  {
   "cell_type": "code",
   "execution_count": null,
   "id": "b696dab0",
   "metadata": {},
   "outputs": [],
   "source": [
    "#req: to correct the format by using the string methods."
   ]
  },
  {
   "cell_type": "code",
   "execution_count": 4,
   "id": "dda18aaf",
   "metadata": {},
   "outputs": [
    {
     "name": "stdout",
     "output_type": "stream",
     "text": [
      "Umme Hani\n"
     ]
    }
   ],
   "source": [
    "print(full_name.title())"
   ]
  },
  {
   "cell_type": "code",
   "execution_count": 5,
   "id": "af7d1d56",
   "metadata": {},
   "outputs": [
    {
     "name": "stdout",
     "output_type": "stream",
     "text": [
      "UMME HANI\n"
     ]
    }
   ],
   "source": [
    "#req: to get the full name in capital letters.\n",
    "print(full_name.upper())"
   ]
  },
  {
   "cell_type": "code",
   "execution_count": 6,
   "id": "b47970b1",
   "metadata": {},
   "outputs": [
    {
     "name": "stdout",
     "output_type": "stream",
     "text": [
      "umme hani\n"
     ]
    }
   ],
   "source": [
    "#req: I want to have the full name in small leters.\n",
    "print(full_name.lower())"
   ]
  },
  {
   "cell_type": "code",
   "execution_count": null,
   "id": "d1c1c8c1",
   "metadata": {},
   "outputs": [],
   "source": [
    "Introduction to f string."
   ]
  },
  {
   "cell_type": "code",
   "execution_count": 8,
   "id": "b4f32d90",
   "metadata": {},
   "outputs": [],
   "source": [
    "firstname='ateeqh'\n",
    "middlename='ur'\n",
    "lastname='rehman'"
   ]
  },
  {
   "cell_type": "code",
   "execution_count": 11,
   "id": "9cf7f642",
   "metadata": {},
   "outputs": [
    {
     "name": "stdout",
     "output_type": "stream",
     "text": [
      "ateeqh ur rehman\n"
     ]
    }
   ],
   "source": [
    "#req: to get the full name.\n",
    "fullname=f\"{firstname} {middlename} {lastname}\"\n",
    "print(fullname)"
   ]
  },
  {
   "cell_type": "code",
   "execution_count": 12,
   "id": "dfea1c92",
   "metadata": {},
   "outputs": [
    {
     "name": "stdout",
     "output_type": "stream",
     "text": [
      "Ateeqh Ur Rehman\n"
     ]
    }
   ],
   "source": [
    "print(fullname.title())"
   ]
  },
  {
   "cell_type": "code",
   "execution_count": 15,
   "id": "1797a963",
   "metadata": {},
   "outputs": [
    {
     "name": "stdout",
     "output_type": "stream",
     "text": [
      " Keep up the good work, Ateeqh Ur Rehman\n"
     ]
    }
   ],
   "source": [
    "#req: custom words from syntax\n",
    "print(f\" Keep up the good work, {fullname.title()}\")"
   ]
  },
  {
   "cell_type": "code",
   "execution_count": 16,
   "id": "e27f4bea",
   "metadata": {},
   "outputs": [
    {
     "name": "stdout",
     "output_type": "stream",
     "text": [
      " Keep up the good work, Ateeqh\n"
     ]
    }
   ],
   "source": [
    "print(f\" Keep up the good work, {firstname.title()}\")"
   ]
  },
  {
   "cell_type": "code",
   "execution_count": null,
   "id": "718388c1",
   "metadata": {},
   "outputs": [],
   "source": [
    "Adding white space to strings:"
   ]
  },
  {
   "cell_type": "code",
   "execution_count": 17,
   "id": "b6b4b950",
   "metadata": {},
   "outputs": [
    {
     "name": "stdout",
     "output_type": "stream",
     "text": [
      "Favorite_programming_language:pythonjavac++cobaljavascript\n"
     ]
    }
   ],
   "source": [
    "#req: I am conducting a survey among a group of students to choose their fav programming language.\n",
    "print(\"Favorite_programming_language:pythonjavac++cobaljavascript\")"
   ]
  },
  {
   "cell_type": "code",
   "execution_count": 23,
   "id": "56186114",
   "metadata": {},
   "outputs": [
    {
     "name": "stdout",
     "output_type": "stream",
     "text": [
      "Favorite_programming_language:\n",
      "python\n",
      "java\n",
      "c++\n",
      "cobal\n",
      "javascript\n"
     ]
    }
   ],
   "source": [
    "print(\"Favorite_programming_language:\\npython\\njava\\nc++\\ncobal\\njavascript\")"
   ]
  },
  {
   "cell_type": "code",
   "execution_count": 24,
   "id": "4ac56a7b",
   "metadata": {},
   "outputs": [
    {
     "name": "stdout",
     "output_type": "stream",
     "text": [
      "Favorite_programming_language:\n",
      "\tpython\n",
      "\tjava\n",
      "\tc++\n",
      "\tcobal\n",
      "\tjavascript\n"
     ]
    }
   ],
   "source": [
    "print(\"Favorite_programming_language:\\n\\tpython\\n\\tjava\\n\\tc++\\n\\tcobal\\n\\tjavascript\")"
   ]
  },
  {
   "cell_type": "code",
   "execution_count": null,
   "id": "73c9e082",
   "metadata": {},
   "outputs": [],
   "source": []
  }
 ],
 "metadata": {
  "kernelspec": {
   "display_name": "Python 3",
   "language": "python",
   "name": "python3"
  },
  "language_info": {
   "codemirror_mode": {
    "name": "ipython",
    "version": 3
   },
   "file_extension": ".py",
   "mimetype": "text/x-python",
   "name": "python",
   "nbconvert_exporter": "python",
   "pygments_lexer": "ipython3",
   "version": "3.8.8"
  }
 },
 "nbformat": 4,
 "nbformat_minor": 5
}
