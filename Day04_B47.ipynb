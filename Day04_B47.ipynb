{
 "cells": [
  {
   "cell_type": "code",
   "execution_count": null,
   "id": "cf33b5e5",
   "metadata": {},
   "outputs": [],
   "source": [
    " Introduction to list datatype:"
   ]
  },
  {
   "cell_type": "code",
   "execution_count": null,
   "id": "cbbb790a",
   "metadata": {},
   "outputs": [],
   "source": [
    "How to define a list --> []\n"
   ]
  },
  {
   "cell_type": "code",
   "execution_count": 5,
   "id": "2543d2cb",
   "metadata": {},
   "outputs": [],
   "source": [
    "students=['hani','sheema','javeriya','aslaha','afreen','arshiya']"
   ]
  },
  {
   "cell_type": "code",
   "execution_count": 6,
   "id": "7f45293e",
   "metadata": {},
   "outputs": [
    {
     "name": "stdout",
     "output_type": "stream",
     "text": [
      "['hani', 'sheema', 'javeriya', 'aslaha', 'afreen', 'arshiya']\n"
     ]
    }
   ],
   "source": [
    "print(students)"
   ]
  },
  {
   "cell_type": "code",
   "execution_count": 7,
   "id": "a35e289f",
   "metadata": {},
   "outputs": [
    {
     "data": {
      "text/plain": [
       "list"
      ]
     },
     "execution_count": 7,
     "metadata": {},
     "output_type": "execute_result"
    }
   ],
   "source": [
    "type(students)"
   ]
  },
  {
   "cell_type": "code",
   "execution_count": null,
   "id": "27cd72ce",
   "metadata": {},
   "outputs": [],
   "source": [
    "How to access the elements of the list."
   ]
  },
  {
   "cell_type": "code",
   "execution_count": null,
   "id": "58663cf8",
   "metadata": {},
   "outputs": [],
   "source": [
    "#req: I want to access sheema name in the output.\n",
    "Introduction to indexing:"
   ]
  },
  {
   "cell_type": "code",
   "execution_count": 8,
   "id": "288574e8",
   "metadata": {},
   "outputs": [
    {
     "name": "stdout",
     "output_type": "stream",
     "text": [
      "sheema\n"
     ]
    }
   ],
   "source": [
    "print(students[1])"
   ]
  },
  {
   "cell_type": "code",
   "execution_count": 10,
   "id": "d7e3fdbe",
   "metadata": {},
   "outputs": [
    {
     "name": "stdout",
     "output_type": "stream",
     "text": [
      "Sheema\n"
     ]
    }
   ],
   "source": [
    "print(students[1].title())"
   ]
  },
  {
   "cell_type": "code",
   "execution_count": 11,
   "id": "046d8f3f",
   "metadata": {},
   "outputs": [],
   "source": []
  },
  {
   "cell_type": "code",
   "execution_count": null,
   "id": "c8dfa031",
   "metadata": {},
   "outputs": [],
   "source": [
    "1.How to add new elements to the list?"
   ]
  },
  {
   "cell_type": "code",
   "execution_count": 13,
   "id": "1a55f29a",
   "metadata": {},
   "outputs": [
    {
     "name": "stdout",
     "output_type": "stream",
     "text": [
      "['hani', 'sheema', 'javeriya', 'aslaha', 'afreen', 'arshiya', 'sumaiya', 'sumaiya']\n"
     ]
    }
   ],
   "source": [
    "#req:I want to add Sumaiya name in the students list.\n",
    "students.append('sumaiya')\n",
    "print(students)"
   ]
  },
  {
   "cell_type": "code",
   "execution_count": 16,
   "id": "6bec3e5d",
   "metadata": {},
   "outputs": [
    {
     "name": "stdout",
     "output_type": "stream",
     "text": [
      "['hani', 'sheema', 'humaira', 'javeriya', 'aslaha', 'afreen', 'arshiya', 'sumaiya', 'sumaiya']\n"
     ]
    }
   ],
   "source": [
    "#req:I want to add humaira in at 2nd index.\n",
    "students.insert(2,'humaira')\n",
    "print(students)"
   ]
  },
  {
   "cell_type": "code",
   "execution_count": null,
   "id": "d39a3b93",
   "metadata": {},
   "outputs": [],
   "source": [
    "2.How to modify the elemets in the list?"
   ]
  },
  {
   "cell_type": "code",
   "execution_count": 17,
   "id": "7389c550",
   "metadata": {},
   "outputs": [
    {
     "name": "stdout",
     "output_type": "stream",
     "text": [
      "['hani', 'sheema', 'muskan', 'javeriya', 'aslaha', 'afreen', 'arshiya', 'sumaiya', 'sumaiya']\n"
     ]
    }
   ],
   "source": [
    "#req:I want to modify humaira name to muskan.\n",
    "students[2]='muskan'\n",
    "print(students)"
   ]
  },
  {
   "cell_type": "code",
   "execution_count": null,
   "id": "5ad9bbfe",
   "metadata": {},
   "outputs": [],
   "source": [
    "3.how to delete the elements from the list."
   ]
  },
  {
   "cell_type": "code",
   "execution_count": 18,
   "id": "0d42bfce",
   "metadata": {},
   "outputs": [
    {
     "name": "stdout",
     "output_type": "stream",
     "text": [
      "['hani', 'sheema', 'muskan', 'javeriya', 'aslaha', 'afreen', 'arshiya', 'sumaiya', 'sumaiya']\n"
     ]
    }
   ],
   "source": [
    "print(students)"
   ]
  },
  {
   "cell_type": "raw",
   "id": "933d853e",
   "metadata": {},
   "source": []
  },
  {
   "cell_type": "code",
   "execution_count": 19,
   "id": "72ad366b",
   "metadata": {},
   "outputs": [
    {
     "name": "stdout",
     "output_type": "stream",
     "text": [
      "['hani', 'sheema', 'javeriya', 'aslaha', 'afreen', 'arshiya', 'sumaiya', 'sumaiya']\n"
     ]
    }
   ],
   "source": [
    "#req: I want to delete muskan name from the list.\n",
    "del students[2]\n",
    "print(students)"
   ]
  },
  {
   "cell_type": "markdown",
   "id": "61507ba5",
   "metadata": {},
   "source": []
  },
  {
   "cell_type": "code",
   "execution_count": 20,
   "id": "7feea09d",
   "metadata": {},
   "outputs": [
    {
     "name": "stdout",
     "output_type": "stream",
     "text": [
      "['hani', 'sheema', 'javeriya', 'aslaha', 'afreen', 'arshiya', 'sumaiya']\n"
     ]
    }
   ],
   "source": [
    "#temp way of deleting things.\n",
    "x=students.pop()\n",
    "print(students)"
   ]
  },
  {
   "cell_type": "code",
   "execution_count": 21,
   "id": "67be85a2",
   "metadata": {},
   "outputs": [
    {
     "name": "stdout",
     "output_type": "stream",
     "text": [
      "sumaiya\n"
     ]
    }
   ],
   "source": [
    "print(x)"
   ]
  },
  {
   "cell_type": "code",
   "execution_count": null,
   "id": "b2070005",
   "metadata": {},
   "outputs": [],
   "source": []
  },
  {
   "cell_type": "code",
   "execution_count": null,
   "id": "ff698996",
   "metadata": {},
   "outputs": [],
   "source": []
  },
  {
   "cell_type": "code",
   "execution_count": null,
   "id": "49e87066",
   "metadata": {},
   "outputs": [],
   "source": []
  }
 ],
 "metadata": {
  "kernelspec": {
   "display_name": "Python 3",
   "language": "python",
   "name": "python3"
  },
  "language_info": {
   "codemirror_mode": {
    "name": "ipython",
    "version": 3
   },
   "file_extension": ".py",
   "mimetype": "text/x-python",
   "name": "python",
   "nbconvert_exporter": "python",
   "pygments_lexer": "ipython3",
   "version": "3.8.8"
  }
 },
 "nbformat": 4,
 "nbformat_minor": 5
}
